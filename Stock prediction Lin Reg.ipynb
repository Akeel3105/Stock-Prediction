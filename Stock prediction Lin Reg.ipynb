{
 "cells": [
  {
   "cell_type": "code",
   "execution_count": 1,
   "metadata": {},
   "outputs": [
    {
     "name": "stdout",
     "output_type": "stream",
     "text": [
      "Requirement already satisfied: quandl in c:\\users\\acer\\appdata\\local\\programs\\python\\python36\\lib\\site-packages (3.4.8)\n",
      "Requirement already satisfied: inflection>=0.3.1 in c:\\users\\acer\\appdata\\local\\programs\\python\\python36\\lib\\site-packages (from quandl) (0.3.1)\n",
      "Requirement already satisfied: pyasn1 in c:\\users\\acer\\appdata\\local\\programs\\python\\python36\\lib\\site-packages (from quandl) (0.4.8)\n",
      "Requirement already satisfied: requests>=2.7.0 in c:\\users\\acer\\appdata\\local\\programs\\python\\python36\\lib\\site-packages (from quandl) (2.22.0)\n",
      "Requirement already satisfied: pyOpenSSL in c:\\users\\acer\\appdata\\local\\programs\\python\\python36\\lib\\site-packages (from quandl) (19.1.0)\n",
      "Requirement already satisfied: ndg-httpsclient in c:\\users\\acer\\appdata\\local\\programs\\python\\python36\\lib\\site-packages (from quandl) (0.5.1)\n",
      "Requirement already satisfied: python-dateutil in c:\\users\\acer\\appdata\\local\\programs\\python\\python36\\lib\\site-packages (from quandl) (2.8.0)\n",
      "Requirement already satisfied: pandas>=0.14 in c:\\users\\acer\\appdata\\local\\programs\\python\\python36\\lib\\site-packages (from quandl) (0.25.1)\n",
      "Requirement already satisfied: six in c:\\users\\acer\\appdata\\local\\programs\\python\\python36\\lib\\site-packages (from quandl) (1.12.0)\n",
      "Requirement already satisfied: numpy>=1.8 in c:\\users\\acer\\appdata\\local\\programs\\python\\python36\\lib\\site-packages (from quandl) (1.17.2)\n",
      "Requirement already satisfied: more-itertools<=5.0.0 in c:\\users\\acer\\appdata\\local\\programs\\python\\python36\\lib\\site-packages (from quandl) (5.0.0)\n",
      "Requirement already satisfied: certifi>=2017.4.17 in c:\\users\\acer\\appdata\\local\\programs\\python\\python36\\lib\\site-packages (from requests>=2.7.0->quandl) (2019.11.28)\n",
      "Requirement already satisfied: idna<2.9,>=2.5 in c:\\users\\acer\\appdata\\local\\programs\\python\\python36\\lib\\site-packages (from requests>=2.7.0->quandl) (2.8)\n",
      "Requirement already satisfied: urllib3!=1.25.0,!=1.25.1,<1.26,>=1.21.1 in c:\\users\\acer\\appdata\\local\\programs\\python\\python36\\lib\\site-packages (from requests>=2.7.0->quandl) (1.25.7)\n",
      "Requirement already satisfied: chardet<3.1.0,>=3.0.2 in c:\\users\\acer\\appdata\\local\\programs\\python\\python36\\lib\\site-packages (from requests>=2.7.0->quandl) (3.0.4)\n",
      "Requirement already satisfied: cryptography>=2.8 in c:\\users\\acer\\appdata\\local\\programs\\python\\python36\\lib\\site-packages (from pyOpenSSL->quandl) (2.8)\n",
      "Requirement already satisfied: pytz>=2017.2 in c:\\users\\acer\\appdata\\local\\programs\\python\\python36\\lib\\site-packages (from pandas>=0.14->quandl) (2019.2)\n",
      "Requirement already satisfied: cffi!=1.11.3,>=1.8 in c:\\users\\acer\\appdata\\local\\programs\\python\\python36\\lib\\site-packages (from cryptography>=2.8->pyOpenSSL->quandl) (1.13.2)\n",
      "Requirement already satisfied: pycparser in c:\\users\\acer\\appdata\\local\\programs\\python\\python36\\lib\\site-packages (from cffi!=1.11.3,>=1.8->cryptography>=2.8->pyOpenSSL->quandl) (2.19)\n",
      "Note: you may need to restart the kernel to use updated packages.\n"
     ]
    }
   ],
   "source": [
    "pip install quandl"
   ]
  },
  {
   "cell_type": "code",
   "execution_count": 2,
   "metadata": {},
   "outputs": [],
   "source": [
    "# this program predicts stock prices by using ML algo"
   ]
  },
  {
   "cell_type": "code",
   "execution_count": 4,
   "metadata": {},
   "outputs": [],
   "source": [
    "# installing dependencies\n",
    "import quandl\n",
    "import numpy as np\n",
    "from sklearn.linear_model import LinearRegression\n",
    "from sklearn.svm import SVR\n",
    "from sklearn.model_selection import train_test_split"
   ]
  },
  {
   "cell_type": "code",
   "execution_count": 29,
   "metadata": {},
   "outputs": [],
   "source": [
    "# getting stock data\n",
    "df=quandl.get(\"WIKI/FB\")"
   ]
  },
  {
   "cell_type": "code",
   "execution_count": 31,
   "metadata": {},
   "outputs": [],
   "source": [
    "# we have exported this file to csv\n",
    "df.to_csv(\"df.csv\")"
   ]
  },
  {
   "cell_type": "code",
   "execution_count": 48,
   "metadata": {},
   "outputs": [],
   "source": [
    "df=pd.read_csv(\"df.csv\")"
   ]
  },
  {
   "cell_type": "code",
   "execution_count": 33,
   "metadata": {},
   "outputs": [],
   "source": [
    "import pandas as pd"
   ]
  },
  {
   "cell_type": "code",
   "execution_count": 49,
   "metadata": {},
   "outputs": [
    {
     "data": {
      "text/html": [
       "<div>\n",
       "<style scoped>\n",
       "    .dataframe tbody tr th:only-of-type {\n",
       "        vertical-align: middle;\n",
       "    }\n",
       "\n",
       "    .dataframe tbody tr th {\n",
       "        vertical-align: top;\n",
       "    }\n",
       "\n",
       "    .dataframe thead th {\n",
       "        text-align: right;\n",
       "    }\n",
       "</style>\n",
       "<table border=\"1\" class=\"dataframe\">\n",
       "  <thead>\n",
       "    <tr style=\"text-align: right;\">\n",
       "      <th></th>\n",
       "      <th>Date</th>\n",
       "      <th>Open</th>\n",
       "      <th>High</th>\n",
       "      <th>Low</th>\n",
       "      <th>Close</th>\n",
       "      <th>Volume</th>\n",
       "      <th>Ex-Dividend</th>\n",
       "      <th>Split Ratio</th>\n",
       "      <th>Adj. Open</th>\n",
       "      <th>Adj. High</th>\n",
       "      <th>Adj. Low</th>\n",
       "      <th>Adj. Close</th>\n",
       "      <th>Adj. Volume</th>\n",
       "    </tr>\n",
       "  </thead>\n",
       "  <tbody>\n",
       "    <tr>\n",
       "      <td>0</td>\n",
       "      <td>2012-05-18</td>\n",
       "      <td>42.05</td>\n",
       "      <td>45.0</td>\n",
       "      <td>38.0</td>\n",
       "      <td>38.2318</td>\n",
       "      <td>573576400.0</td>\n",
       "      <td>0.0</td>\n",
       "      <td>1.0</td>\n",
       "      <td>42.05</td>\n",
       "      <td>45.0</td>\n",
       "      <td>38.0</td>\n",
       "      <td>38.2318</td>\n",
       "      <td>573576400.0</td>\n",
       "    </tr>\n",
       "  </tbody>\n",
       "</table>\n",
       "</div>"
      ],
      "text/plain": [
       "         Date   Open  High   Low    Close       Volume  Ex-Dividend  \\\n",
       "0  2012-05-18  42.05  45.0  38.0  38.2318  573576400.0          0.0   \n",
       "\n",
       "   Split Ratio  Adj. Open  Adj. High  Adj. Low  Adj. Close  Adj. Volume  \n",
       "0          1.0      42.05       45.0      38.0     38.2318  573576400.0  "
      ]
     },
     "execution_count": 49,
     "metadata": {},
     "output_type": "execute_result"
    }
   ],
   "source": [
    "df.head(1)"
   ]
  },
  {
   "cell_type": "code",
   "execution_count": 50,
   "metadata": {},
   "outputs": [],
   "source": [
    "# as we want to make date as index \n",
    "df=df.set_index(\"Date\")"
   ]
  },
  {
   "cell_type": "code",
   "execution_count": 51,
   "metadata": {},
   "outputs": [
    {
     "data": {
      "text/html": [
       "<div>\n",
       "<style scoped>\n",
       "    .dataframe tbody tr th:only-of-type {\n",
       "        vertical-align: middle;\n",
       "    }\n",
       "\n",
       "    .dataframe tbody tr th {\n",
       "        vertical-align: top;\n",
       "    }\n",
       "\n",
       "    .dataframe thead th {\n",
       "        text-align: right;\n",
       "    }\n",
       "</style>\n",
       "<table border=\"1\" class=\"dataframe\">\n",
       "  <thead>\n",
       "    <tr style=\"text-align: right;\">\n",
       "      <th></th>\n",
       "      <th>Open</th>\n",
       "      <th>High</th>\n",
       "      <th>Low</th>\n",
       "      <th>Close</th>\n",
       "      <th>Volume</th>\n",
       "      <th>Ex-Dividend</th>\n",
       "      <th>Split Ratio</th>\n",
       "      <th>Adj. Open</th>\n",
       "      <th>Adj. High</th>\n",
       "      <th>Adj. Low</th>\n",
       "      <th>Adj. Close</th>\n",
       "      <th>Adj. Volume</th>\n",
       "    </tr>\n",
       "    <tr>\n",
       "      <th>Date</th>\n",
       "      <th></th>\n",
       "      <th></th>\n",
       "      <th></th>\n",
       "      <th></th>\n",
       "      <th></th>\n",
       "      <th></th>\n",
       "      <th></th>\n",
       "      <th></th>\n",
       "      <th></th>\n",
       "      <th></th>\n",
       "      <th></th>\n",
       "      <th></th>\n",
       "    </tr>\n",
       "  </thead>\n",
       "  <tbody>\n",
       "    <tr>\n",
       "      <td>2012-05-18</td>\n",
       "      <td>42.05</td>\n",
       "      <td>45.0</td>\n",
       "      <td>38.0</td>\n",
       "      <td>38.2318</td>\n",
       "      <td>573576400.0</td>\n",
       "      <td>0.0</td>\n",
       "      <td>1.0</td>\n",
       "      <td>42.05</td>\n",
       "      <td>45.0</td>\n",
       "      <td>38.0</td>\n",
       "      <td>38.2318</td>\n",
       "      <td>573576400.0</td>\n",
       "    </tr>\n",
       "  </tbody>\n",
       "</table>\n",
       "</div>"
      ],
      "text/plain": [
       "             Open  High   Low    Close       Volume  Ex-Dividend  Split Ratio  \\\n",
       "Date                                                                            \n",
       "2012-05-18  42.05  45.0  38.0  38.2318  573576400.0          0.0          1.0   \n",
       "\n",
       "            Adj. Open  Adj. High  Adj. Low  Adj. Close  Adj. Volume  \n",
       "Date                                                                 \n",
       "2012-05-18      42.05       45.0      38.0     38.2318  573576400.0  "
      ]
     },
     "execution_count": 51,
     "metadata": {},
     "output_type": "execute_result"
    }
   ],
   "source": [
    "df.head(1)"
   ]
  },
  {
   "cell_type": "code",
   "execution_count": 52,
   "metadata": {},
   "outputs": [],
   "source": [
    "df=df[[\"Adj. Close\"]]\n",
    "# if we are taking single bracket then the col name is not coming"
   ]
  },
  {
   "cell_type": "code",
   "execution_count": 53,
   "metadata": {},
   "outputs": [
    {
     "data": {
      "text/html": [
       "<div>\n",
       "<style scoped>\n",
       "    .dataframe tbody tr th:only-of-type {\n",
       "        vertical-align: middle;\n",
       "    }\n",
       "\n",
       "    .dataframe tbody tr th {\n",
       "        vertical-align: top;\n",
       "    }\n",
       "\n",
       "    .dataframe thead th {\n",
       "        text-align: right;\n",
       "    }\n",
       "</style>\n",
       "<table border=\"1\" class=\"dataframe\">\n",
       "  <thead>\n",
       "    <tr style=\"text-align: right;\">\n",
       "      <th></th>\n",
       "      <th>Adj. Close</th>\n",
       "    </tr>\n",
       "    <tr>\n",
       "      <th>Date</th>\n",
       "      <th></th>\n",
       "    </tr>\n",
       "  </thead>\n",
       "  <tbody>\n",
       "    <tr>\n",
       "      <td>2012-05-18</td>\n",
       "      <td>38.2318</td>\n",
       "    </tr>\n",
       "    <tr>\n",
       "      <td>2012-05-21</td>\n",
       "      <td>34.0300</td>\n",
       "    </tr>\n",
       "    <tr>\n",
       "      <td>2012-05-22</td>\n",
       "      <td>31.0000</td>\n",
       "    </tr>\n",
       "    <tr>\n",
       "      <td>2012-05-23</td>\n",
       "      <td>32.0000</td>\n",
       "    </tr>\n",
       "    <tr>\n",
       "      <td>2012-05-24</td>\n",
       "      <td>33.0300</td>\n",
       "    </tr>\n",
       "  </tbody>\n",
       "</table>\n",
       "</div>"
      ],
      "text/plain": [
       "            Adj. Close\n",
       "Date                  \n",
       "2012-05-18     38.2318\n",
       "2012-05-21     34.0300\n",
       "2012-05-22     31.0000\n",
       "2012-05-23     32.0000\n",
       "2012-05-24     33.0300"
      ]
     },
     "execution_count": 53,
     "metadata": {},
     "output_type": "execute_result"
    }
   ],
   "source": [
    "df.head(5)"
   ]
  },
  {
   "cell_type": "code",
   "execution_count": 62,
   "metadata": {},
   "outputs": [],
   "source": [
    "# create a new col and putting in this dataset\n",
    "forecast_out=30\n",
    "df[\"Prediction\"]=df[\"Adj. Close\"].shift(-1)\n",
    "df.head(3)"
   ]
  },
  {
   "cell_type": "code",
   "execution_count": 55,
   "metadata": {},
   "outputs": [
    {
     "data": {
      "text/html": [
       "<div>\n",
       "<style scoped>\n",
       "    .dataframe tbody tr th:only-of-type {\n",
       "        vertical-align: middle;\n",
       "    }\n",
       "\n",
       "    .dataframe tbody tr th {\n",
       "        vertical-align: top;\n",
       "    }\n",
       "\n",
       "    .dataframe thead th {\n",
       "        text-align: right;\n",
       "    }\n",
       "</style>\n",
       "<table border=\"1\" class=\"dataframe\">\n",
       "  <thead>\n",
       "    <tr style=\"text-align: right;\">\n",
       "      <th></th>\n",
       "      <th>Adj. Close</th>\n",
       "      <th>Prediction</th>\n",
       "    </tr>\n",
       "    <tr>\n",
       "      <th>Date</th>\n",
       "      <th></th>\n",
       "      <th></th>\n",
       "    </tr>\n",
       "  </thead>\n",
       "  <tbody>\n",
       "    <tr>\n",
       "      <td>2018-03-21</td>\n",
       "      <td>169.39</td>\n",
       "      <td>164.89</td>\n",
       "    </tr>\n",
       "    <tr>\n",
       "      <td>2018-03-22</td>\n",
       "      <td>164.89</td>\n",
       "      <td>159.39</td>\n",
       "    </tr>\n",
       "    <tr>\n",
       "      <td>2018-03-23</td>\n",
       "      <td>159.39</td>\n",
       "      <td>160.06</td>\n",
       "    </tr>\n",
       "    <tr>\n",
       "      <td>2018-03-26</td>\n",
       "      <td>160.06</td>\n",
       "      <td>152.19</td>\n",
       "    </tr>\n",
       "    <tr>\n",
       "      <td>2018-03-27</td>\n",
       "      <td>152.19</td>\n",
       "      <td>NaN</td>\n",
       "    </tr>\n",
       "  </tbody>\n",
       "</table>\n",
       "</div>"
      ],
      "text/plain": [
       "            Adj. Close  Prediction\n",
       "Date                              \n",
       "2018-03-21      169.39      164.89\n",
       "2018-03-22      164.89      159.39\n",
       "2018-03-23      159.39      160.06\n",
       "2018-03-26      160.06      152.19\n",
       "2018-03-27      152.19         NaN"
      ]
     },
     "execution_count": 55,
     "metadata": {},
     "output_type": "execute_result"
    }
   ],
   "source": [
    "df.tail()"
   ]
  },
  {
   "cell_type": "code",
   "execution_count": 56,
   "metadata": {},
   "outputs": [],
   "source": [
    "df[\"Prediction\"]=df[\"Adj. Close\"].shift(-2)"
   ]
  },
  {
   "cell_type": "code",
   "execution_count": 57,
   "metadata": {},
   "outputs": [
    {
     "data": {
      "text/html": [
       "<div>\n",
       "<style scoped>\n",
       "    .dataframe tbody tr th:only-of-type {\n",
       "        vertical-align: middle;\n",
       "    }\n",
       "\n",
       "    .dataframe tbody tr th {\n",
       "        vertical-align: top;\n",
       "    }\n",
       "\n",
       "    .dataframe thead th {\n",
       "        text-align: right;\n",
       "    }\n",
       "</style>\n",
       "<table border=\"1\" class=\"dataframe\">\n",
       "  <thead>\n",
       "    <tr style=\"text-align: right;\">\n",
       "      <th></th>\n",
       "      <th>Adj. Close</th>\n",
       "      <th>Prediction</th>\n",
       "    </tr>\n",
       "    <tr>\n",
       "      <th>Date</th>\n",
       "      <th></th>\n",
       "      <th></th>\n",
       "    </tr>\n",
       "  </thead>\n",
       "  <tbody>\n",
       "    <tr>\n",
       "      <td>2012-05-18</td>\n",
       "      <td>38.2318</td>\n",
       "      <td>31.0</td>\n",
       "    </tr>\n",
       "    <tr>\n",
       "      <td>2012-05-21</td>\n",
       "      <td>34.0300</td>\n",
       "      <td>32.0</td>\n",
       "    </tr>\n",
       "  </tbody>\n",
       "</table>\n",
       "</div>"
      ],
      "text/plain": [
       "            Adj. Close  Prediction\n",
       "Date                              \n",
       "2012-05-18     38.2318        31.0\n",
       "2012-05-21     34.0300        32.0"
      ]
     },
     "execution_count": 57,
     "metadata": {},
     "output_type": "execute_result"
    }
   ],
   "source": [
    "df.head(2)"
   ]
  },
  {
   "cell_type": "code",
   "execution_count": 59,
   "metadata": {},
   "outputs": [
    {
     "data": {
      "text/html": [
       "<div>\n",
       "<style scoped>\n",
       "    .dataframe tbody tr th:only-of-type {\n",
       "        vertical-align: middle;\n",
       "    }\n",
       "\n",
       "    .dataframe tbody tr th {\n",
       "        vertical-align: top;\n",
       "    }\n",
       "\n",
       "    .dataframe thead th {\n",
       "        text-align: right;\n",
       "    }\n",
       "</style>\n",
       "<table border=\"1\" class=\"dataframe\">\n",
       "  <thead>\n",
       "    <tr style=\"text-align: right;\">\n",
       "      <th></th>\n",
       "      <th>Adj. Close</th>\n",
       "      <th>Prediction</th>\n",
       "    </tr>\n",
       "    <tr>\n",
       "      <th>Date</th>\n",
       "      <th></th>\n",
       "      <th></th>\n",
       "    </tr>\n",
       "  </thead>\n",
       "  <tbody>\n",
       "    <tr>\n",
       "      <td>2018-03-23</td>\n",
       "      <td>159.39</td>\n",
       "      <td>152.19</td>\n",
       "    </tr>\n",
       "    <tr>\n",
       "      <td>2018-03-26</td>\n",
       "      <td>160.06</td>\n",
       "      <td>NaN</td>\n",
       "    </tr>\n",
       "    <tr>\n",
       "      <td>2018-03-27</td>\n",
       "      <td>152.19</td>\n",
       "      <td>NaN</td>\n",
       "    </tr>\n",
       "  </tbody>\n",
       "</table>\n",
       "</div>"
      ],
      "text/plain": [
       "            Adj. Close  Prediction\n",
       "Date                              \n",
       "2018-03-23      159.39      152.19\n",
       "2018-03-26      160.06         NaN\n",
       "2018-03-27      152.19         NaN"
      ]
     },
     "execution_count": 59,
     "metadata": {},
     "output_type": "execute_result"
    }
   ],
   "source": [
    "df.tail(3)"
   ]
  },
  {
   "cell_type": "code",
   "execution_count": 63,
   "metadata": {},
   "outputs": [],
   "source": [
    "df[\"Prediction\"]=df[\"Adj. Close\"].shift(-forecast_out)"
   ]
  },
  {
   "cell_type": "code",
   "execution_count": 64,
   "metadata": {},
   "outputs": [
    {
     "data": {
      "text/html": [
       "<div>\n",
       "<style scoped>\n",
       "    .dataframe tbody tr th:only-of-type {\n",
       "        vertical-align: middle;\n",
       "    }\n",
       "\n",
       "    .dataframe tbody tr th {\n",
       "        vertical-align: top;\n",
       "    }\n",
       "\n",
       "    .dataframe thead th {\n",
       "        text-align: right;\n",
       "    }\n",
       "</style>\n",
       "<table border=\"1\" class=\"dataframe\">\n",
       "  <thead>\n",
       "    <tr style=\"text-align: right;\">\n",
       "      <th></th>\n",
       "      <th>Adj. Close</th>\n",
       "      <th>Prediction</th>\n",
       "    </tr>\n",
       "    <tr>\n",
       "      <th>Date</th>\n",
       "      <th></th>\n",
       "      <th></th>\n",
       "    </tr>\n",
       "  </thead>\n",
       "  <tbody>\n",
       "    <tr>\n",
       "      <td>2012-05-18</td>\n",
       "      <td>38.2318</td>\n",
       "      <td>30.771</td>\n",
       "    </tr>\n",
       "    <tr>\n",
       "      <td>2012-05-21</td>\n",
       "      <td>34.0300</td>\n",
       "      <td>31.200</td>\n",
       "    </tr>\n",
       "    <tr>\n",
       "      <td>2012-05-22</td>\n",
       "      <td>31.0000</td>\n",
       "      <td>31.470</td>\n",
       "    </tr>\n",
       "    <tr>\n",
       "      <td>2012-05-23</td>\n",
       "      <td>32.0000</td>\n",
       "      <td>31.730</td>\n",
       "    </tr>\n",
       "    <tr>\n",
       "      <td>2012-05-24</td>\n",
       "      <td>33.0300</td>\n",
       "      <td>32.170</td>\n",
       "    </tr>\n",
       "  </tbody>\n",
       "</table>\n",
       "</div>"
      ],
      "text/plain": [
       "            Adj. Close  Prediction\n",
       "Date                              \n",
       "2012-05-18     38.2318      30.771\n",
       "2012-05-21     34.0300      31.200\n",
       "2012-05-22     31.0000      31.470\n",
       "2012-05-23     32.0000      31.730\n",
       "2012-05-24     33.0300      32.170"
      ]
     },
     "execution_count": 64,
     "metadata": {},
     "output_type": "execute_result"
    }
   ],
   "source": [
    "df.head(5)"
   ]
  },
  {
   "cell_type": "code",
   "execution_count": 65,
   "metadata": {},
   "outputs": [
    {
     "data": {
      "text/html": [
       "<div>\n",
       "<style scoped>\n",
       "    .dataframe tbody tr th:only-of-type {\n",
       "        vertical-align: middle;\n",
       "    }\n",
       "\n",
       "    .dataframe tbody tr th {\n",
       "        vertical-align: top;\n",
       "    }\n",
       "\n",
       "    .dataframe thead th {\n",
       "        text-align: right;\n",
       "    }\n",
       "</style>\n",
       "<table border=\"1\" class=\"dataframe\">\n",
       "  <thead>\n",
       "    <tr style=\"text-align: right;\">\n",
       "      <th></th>\n",
       "      <th>Adj. Close</th>\n",
       "      <th>Prediction</th>\n",
       "    </tr>\n",
       "    <tr>\n",
       "      <th>Date</th>\n",
       "      <th></th>\n",
       "      <th></th>\n",
       "    </tr>\n",
       "  </thead>\n",
       "  <tbody>\n",
       "    <tr>\n",
       "      <td>2018-03-21</td>\n",
       "      <td>169.39</td>\n",
       "      <td>NaN</td>\n",
       "    </tr>\n",
       "    <tr>\n",
       "      <td>2018-03-22</td>\n",
       "      <td>164.89</td>\n",
       "      <td>NaN</td>\n",
       "    </tr>\n",
       "    <tr>\n",
       "      <td>2018-03-23</td>\n",
       "      <td>159.39</td>\n",
       "      <td>NaN</td>\n",
       "    </tr>\n",
       "    <tr>\n",
       "      <td>2018-03-26</td>\n",
       "      <td>160.06</td>\n",
       "      <td>NaN</td>\n",
       "    </tr>\n",
       "    <tr>\n",
       "      <td>2018-03-27</td>\n",
       "      <td>152.19</td>\n",
       "      <td>NaN</td>\n",
       "    </tr>\n",
       "  </tbody>\n",
       "</table>\n",
       "</div>"
      ],
      "text/plain": [
       "            Adj. Close  Prediction\n",
       "Date                              \n",
       "2018-03-21      169.39         NaN\n",
       "2018-03-22      164.89         NaN\n",
       "2018-03-23      159.39         NaN\n",
       "2018-03-26      160.06         NaN\n",
       "2018-03-27      152.19         NaN"
      ]
     },
     "execution_count": 65,
     "metadata": {},
     "output_type": "execute_result"
    }
   ],
   "source": [
    "df.tail()"
   ]
  },
  {
   "cell_type": "code",
   "execution_count": 66,
   "metadata": {},
   "outputs": [
    {
     "data": {
      "text/plain": [
       "array([[ 38.2318],\n",
       "       [ 34.03  ],\n",
       "       [ 31.    ],\n",
       "       ...,\n",
       "       [171.5499],\n",
       "       [175.98  ],\n",
       "       [176.41  ]])"
      ]
     },
     "execution_count": 66,
     "metadata": {},
     "output_type": "execute_result"
    }
   ],
   "source": [
    "# create the independent dataset (x)\n",
    "# convert the dataframe to a numpy array\n",
    "x=np.array(df.drop([\"Prediction\"],1))\n",
    "x=x[:-forecast_out]\n",
    "x"
   ]
  },
  {
   "cell_type": "code",
   "execution_count": 67,
   "metadata": {},
   "outputs": [
    {
     "data": {
      "text/plain": [
       "array([30.771, 31.2  , 31.47 , ...,    nan,    nan,    nan])"
      ]
     },
     "execution_count": 67,
     "metadata": {},
     "output_type": "execute_result"
    }
   ],
   "source": [
    "# create the dependent dataset y\n",
    "# convert the dataframe to a numpy array\n",
    "y=np.array(df[\"Prediction\"])\n",
    "y"
   ]
  },
  {
   "cell_type": "code",
   "execution_count": 68,
   "metadata": {},
   "outputs": [
    {
     "data": {
      "text/plain": [
       "array([ 30.771,  31.2  ,  31.47 , ..., 159.39 , 160.06 , 152.19 ])"
      ]
     },
     "execution_count": 68,
     "metadata": {},
     "output_type": "execute_result"
    }
   ],
   "source": [
    "# get all values except the last n rows\n",
    "y=y[:-forecast_out]\n",
    "y"
   ]
  },
  {
   "cell_type": "code",
   "execution_count": 69,
   "metadata": {},
   "outputs": [],
   "source": [
    "# split data\n",
    "x_train,x_test,y_train,y_test=train_test_split(x,y,test_size=0.2)"
   ]
  },
  {
   "cell_type": "code",
   "execution_count": 71,
   "metadata": {},
   "outputs": [
    {
     "data": {
      "text/plain": [
       "SVR(C=1000.0, cache_size=200, coef0=0.0, degree=3, epsilon=0.1, gamma=0.1,\n",
       "    kernel='rbf', max_iter=-1, shrinking=True, tol=0.001, verbose=False)"
      ]
     },
     "execution_count": 71,
     "metadata": {},
     "output_type": "execute_result"
    }
   ],
   "source": [
    "# create and train the SVM (regressor)\n",
    "svr_rbf=SVR(kernel=\"rbf\",C=1e3,gamma=0.1)\n",
    "svr_rbf.fit(x_train,y_train)"
   ]
  },
  {
   "cell_type": "code",
   "execution_count": 72,
   "metadata": {},
   "outputs": [
    {
     "name": "stdout",
     "output_type": "stream",
     "text": [
      "svm confidence: 0.9865752950421851\n"
     ]
    }
   ],
   "source": [
    "# model testing:score returns the coefficient of determinationr^2 of pred\n",
    "# the best possible score is 1.0\n",
    "svm_confidence=svr_rbf.score(x_test,y_test)\n",
    "print(\"svm confidence:\",svm_confidence)\n"
   ]
  },
  {
   "cell_type": "code",
   "execution_count": 73,
   "metadata": {},
   "outputs": [
    {
     "data": {
      "text/plain": [
       "LinearRegression(copy_X=True, fit_intercept=True, n_jobs=None, normalize=False)"
      ]
     },
     "execution_count": 73,
     "metadata": {},
     "output_type": "execute_result"
    }
   ],
   "source": [
    "# create and train Lin reg model\n",
    "lr=LinearRegression()\n",
    "lr.fit(x_train,y_train)"
   ]
  },
  {
   "cell_type": "code",
   "execution_count": 74,
   "metadata": {},
   "outputs": [
    {
     "name": "stdout",
     "output_type": "stream",
     "text": [
      "lr confidence: 0.9817047524811504\n"
     ]
    }
   ],
   "source": [
    "# model testing:score returns the coefficient of determinationr^2 of pred\n",
    "# the best possible score is 1.0\n",
    "lr_confidence=lr.score(x_test,y_test)\n",
    "print(\"lr confidence:\",lr_confidence)"
   ]
  },
  {
   "cell_type": "code",
   "execution_count": null,
   "metadata": {},
   "outputs": [],
   "source": [
    "# svm method gives good prediction than lin reg"
   ]
  },
  {
   "cell_type": "code",
   "execution_count": 76,
   "metadata": {},
   "outputs": [
    {
     "data": {
      "text/plain": [
       "array([[173.15],\n",
       "       [179.52],\n",
       "       [179.96],\n",
       "       [177.36],\n",
       "       [176.01],\n",
       "       [177.91],\n",
       "       [178.99],\n",
       "       [183.29],\n",
       "       [184.93],\n",
       "       [181.46],\n",
       "       [178.32],\n",
       "       [175.94],\n",
       "       [176.62],\n",
       "       [180.4 ],\n",
       "       [179.78],\n",
       "       [183.71],\n",
       "       [182.34],\n",
       "       [185.23],\n",
       "       [184.76],\n",
       "       [181.88],\n",
       "       [184.19],\n",
       "       [183.86],\n",
       "       [185.09],\n",
       "       [172.56],\n",
       "       [168.15],\n",
       "       [169.39],\n",
       "       [164.89],\n",
       "       [159.39],\n",
       "       [160.06],\n",
       "       [152.19]])"
      ]
     },
     "execution_count": 76,
     "metadata": {},
     "output_type": "execute_result"
    }
   ],
   "source": [
    "# set x_forecast equal to the last 0 rows of original dataset from adj.close\n",
    "x_forecast=np.array(df.drop([\"Prediction\"],1))[-forecast_out:]\n",
    "x_forecast"
   ]
  },
  {
   "cell_type": "code",
   "execution_count": 77,
   "metadata": {},
   "outputs": [
    {
     "name": "stdout",
     "output_type": "stream",
     "text": [
      "[177.21522996 183.66269135 184.1080419  181.47642501 180.11000854\n",
      " 182.0331132  183.12624637 187.47853585 189.13847881 185.62628242\n",
      " 182.44809894 180.03915732 180.72742635 184.55339245 183.92585304\n",
      " 187.90364319 186.51698352 189.44212692 188.96641155 186.05138976\n",
      " 188.38948016 188.05546724 189.30042447 176.61805535 172.15442824\n",
      " 173.40950706 168.85478551 163.28790362 163.96605105 156.00034914]\n"
     ]
    }
   ],
   "source": [
    "# prediction for next n days using Lin reg\n",
    "lr_prediction=lr.predict(x_forecast)\n",
    "print(lr_prediction)"
   ]
  },
  {
   "cell_type": "code",
   "execution_count": 78,
   "metadata": {},
   "outputs": [
    {
     "name": "stdout",
     "output_type": "stream",
     "text": [
      "[176.01003938 179.70842708 179.75198914 176.33070105 175.18255866\n",
      " 177.44534667 179.48019368 186.84828094 179.14847653 183.76799254\n",
      " 178.39194008 175.1172978  175.57487096 180.11530573 179.72104067\n",
      " 184.83380636 187.48673767 178.87427817 179.56651984 185.80032074\n",
      " 182.09607561 183.98478267 178.92755172 178.22202402 172.35550237\n",
      " 170.9214428  172.21313267 167.54310535 166.28326663 162.92943713]\n"
     ]
    }
   ],
   "source": [
    "# prediction for next n days using SVM\n",
    "svm_prediction=svr_rbf.predict(x_forecast)\n",
    "print(svm_prediction)"
   ]
  },
  {
   "cell_type": "code",
   "execution_count": null,
   "metadata": {},
   "outputs": [],
   "source": [
    "# we can also run all these codes after importing data from "
   ]
  },
  {
   "cell_type": "code",
   "execution_count": 79,
   "metadata": {},
   "outputs": [],
   "source": [
    "# getting stock data\n",
    "amzn=quandl.get(\"WIKI/AMZN\")"
   ]
  },
  {
   "cell_type": "code",
   "execution_count": 80,
   "metadata": {},
   "outputs": [
    {
     "data": {
      "text/html": [
       "<div>\n",
       "<style scoped>\n",
       "    .dataframe tbody tr th:only-of-type {\n",
       "        vertical-align: middle;\n",
       "    }\n",
       "\n",
       "    .dataframe tbody tr th {\n",
       "        vertical-align: top;\n",
       "    }\n",
       "\n",
       "    .dataframe thead th {\n",
       "        text-align: right;\n",
       "    }\n",
       "</style>\n",
       "<table border=\"1\" class=\"dataframe\">\n",
       "  <thead>\n",
       "    <tr style=\"text-align: right;\">\n",
       "      <th></th>\n",
       "      <th>Open</th>\n",
       "      <th>High</th>\n",
       "      <th>Low</th>\n",
       "      <th>Close</th>\n",
       "      <th>Volume</th>\n",
       "      <th>Ex-Dividend</th>\n",
       "      <th>Split Ratio</th>\n",
       "      <th>Adj. Open</th>\n",
       "      <th>Adj. High</th>\n",
       "      <th>Adj. Low</th>\n",
       "      <th>Adj. Close</th>\n",
       "      <th>Adj. Volume</th>\n",
       "    </tr>\n",
       "    <tr>\n",
       "      <th>Date</th>\n",
       "      <th></th>\n",
       "      <th></th>\n",
       "      <th></th>\n",
       "      <th></th>\n",
       "      <th></th>\n",
       "      <th></th>\n",
       "      <th></th>\n",
       "      <th></th>\n",
       "      <th></th>\n",
       "      <th></th>\n",
       "      <th></th>\n",
       "      <th></th>\n",
       "    </tr>\n",
       "  </thead>\n",
       "  <tbody>\n",
       "    <tr>\n",
       "      <td>1997-05-16</td>\n",
       "      <td>22.38</td>\n",
       "      <td>23.75</td>\n",
       "      <td>20.50</td>\n",
       "      <td>20.75</td>\n",
       "      <td>1225000.0</td>\n",
       "      <td>0.0</td>\n",
       "      <td>1.0</td>\n",
       "      <td>1.865000</td>\n",
       "      <td>1.979167</td>\n",
       "      <td>1.708333</td>\n",
       "      <td>1.729167</td>\n",
       "      <td>14700000.0</td>\n",
       "    </tr>\n",
       "    <tr>\n",
       "      <td>1997-05-19</td>\n",
       "      <td>20.50</td>\n",
       "      <td>21.25</td>\n",
       "      <td>19.50</td>\n",
       "      <td>20.50</td>\n",
       "      <td>508900.0</td>\n",
       "      <td>0.0</td>\n",
       "      <td>1.0</td>\n",
       "      <td>1.708333</td>\n",
       "      <td>1.770833</td>\n",
       "      <td>1.625000</td>\n",
       "      <td>1.708333</td>\n",
       "      <td>6106800.0</td>\n",
       "    </tr>\n",
       "    <tr>\n",
       "      <td>1997-05-20</td>\n",
       "      <td>20.75</td>\n",
       "      <td>21.00</td>\n",
       "      <td>19.63</td>\n",
       "      <td>19.63</td>\n",
       "      <td>455600.0</td>\n",
       "      <td>0.0</td>\n",
       "      <td>1.0</td>\n",
       "      <td>1.729167</td>\n",
       "      <td>1.750000</td>\n",
       "      <td>1.635833</td>\n",
       "      <td>1.635833</td>\n",
       "      <td>5467200.0</td>\n",
       "    </tr>\n",
       "  </tbody>\n",
       "</table>\n",
       "</div>"
      ],
      "text/plain": [
       "             Open   High    Low  Close     Volume  Ex-Dividend  Split Ratio  \\\n",
       "Date                                                                          \n",
       "1997-05-16  22.38  23.75  20.50  20.75  1225000.0          0.0          1.0   \n",
       "1997-05-19  20.50  21.25  19.50  20.50   508900.0          0.0          1.0   \n",
       "1997-05-20  20.75  21.00  19.63  19.63   455600.0          0.0          1.0   \n",
       "\n",
       "            Adj. Open  Adj. High  Adj. Low  Adj. Close  Adj. Volume  \n",
       "Date                                                                 \n",
       "1997-05-16   1.865000   1.979167  1.708333    1.729167   14700000.0  \n",
       "1997-05-19   1.708333   1.770833  1.625000    1.708333    6106800.0  \n",
       "1997-05-20   1.729167   1.750000  1.635833    1.635833    5467200.0  "
      ]
     },
     "execution_count": 80,
     "metadata": {},
     "output_type": "execute_result"
    }
   ],
   "source": [
    "amzn.head(3)"
   ]
  },
  {
   "cell_type": "code",
   "execution_count": null,
   "metadata": {},
   "outputs": [],
   "source": [
    "# repeat all codes on this data"
   ]
  }
 ],
 "metadata": {
  "kernelspec": {
   "display_name": "Python 3",
   "language": "python",
   "name": "python3"
  },
  "language_info": {
   "codemirror_mode": {
    "name": "ipython",
    "version": 3
   },
   "file_extension": ".py",
   "mimetype": "text/x-python",
   "name": "python",
   "nbconvert_exporter": "python",
   "pygments_lexer": "ipython3",
   "version": "3.6.5"
  }
 },
 "nbformat": 4,
 "nbformat_minor": 2
}
